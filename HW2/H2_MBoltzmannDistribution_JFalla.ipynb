{
  "nbformat": 4,
  "nbformat_minor": 0,
  "metadata": {
    "colab": {
      "provenance": [],
      "include_colab_link": true
    },
    "kernelspec": {
      "display_name": "Python 3",
      "language": "python",
      "name": "python3"
    },
    "language_info": {
      "codemirror_mode": {
        "name": "ipython",
        "version": 3
      },
      "file_extension": ".py",
      "mimetype": "text/x-python",
      "name": "python",
      "nbconvert_exporter": "python",
      "pygments_lexer": "ipython3",
      "version": "3.7.3"
    },
    "latex_envs": {
      "LaTeX_envs_menu_present": true,
      "autoclose": false,
      "autocomplete": true,
      "bibliofile": "biblio.bib",
      "cite_by": "apalike",
      "current_citInitial": 1,
      "eqLabelWithNumbers": true,
      "eqNumInitial": 1,
      "hotkeys": {
        "equation": "Ctrl-E",
        "itemize": "Ctrl-I"
      },
      "labels_anchors": false,
      "latex_user_defs": false,
      "report_style_numbering": false,
      "user_envs_cfg": false
    },
    "nbTranslate": {
      "displayLangs": [
        "*"
      ],
      "hotkey": "alt-t",
      "langInMainMenu": true,
      "sourceLang": "en",
      "targetLang": "fr",
      "useGoogleTranslate": true
    },
    "toc": {
      "base_numbering": 1,
      "nav_menu": {},
      "number_sections": true,
      "sideBar": true,
      "skip_h1_title": false,
      "title_cell": "Table of Contents",
      "title_sidebar": "Contents",
      "toc_cell": false,
      "toc_position": {},
      "toc_section_display": true,
      "toc_window_display": false
    }
  },
  "cells": [
    {
      "cell_type": "markdown",
      "metadata": {
        "id": "view-in-github",
        "colab_type": "text"
      },
      "source": [
        "<a href=\"https://colab.research.google.com/github/joseluisfalla/DSPS_JFalla/blob/main/HW2/H2_MBoltzmannDistribution_JFalla.ipynb\" target=\"_parent\"><img src=\"https://colab.research.google.com/assets/colab-badge.svg\" alt=\"Open In Colab\"/></a>"
      ]
    },
    {
      "cell_type": "markdown",
      "metadata": {
        "ExecuteTime": {
          "end_time": "2019-09-04T04:50:01.872913Z",
          "start_time": "2019-09-04T04:50:01.869703Z"
        },
        "id": "dk3tkh__KvAc"
      },
      "source": [
        " Written by Federica B. Bianco @fedhere\n",
        "UDel DSPS"
      ]
    },
    {
      "cell_type": "code",
      "metadata": {
        "ExecuteTime": {
          "end_time": "2019-09-07T17:36:53.625807Z",
          "start_time": "2019-09-07T17:36:53.393906Z"
        },
        "colab": {
          "base_uri": "https://localhost:8080/"
        },
        "id": "iQaonMUBqtX2",
        "outputId": "c596b534-3c4c-49ed-b243-c89d8917baf5"
      },
      "source": [
        "from __future__ import print_function, division\n",
        "import numpy as np\n",
        "import scipy as sp\n",
        "from scipy import stats\n",
        "import pylab as pl\n",
        "%pylab inline\n"
      ],
      "execution_count": 1,
      "outputs": [
        {
          "output_type": "stream",
          "name": "stdout",
          "text": [
            "Populating the interactive namespace from numpy and matplotlib\n"
          ]
        }
      ]
    },
    {
      "cell_type": "markdown",
      "metadata": {
        "id": "zu5QKDi5b7vW"
      },
      "source": [
        "# Homework 1: Maxwell Boltzmann distribution"
      ]
    },
    {
      "cell_type": "markdown",
      "metadata": {
        "id": "ueaB0mHCO_iM"
      },
      "source": [
        "In Physics, statistics can help us describe the macroscopic behavior of a system if we know its microscopic properties in a statistical sense. We cannot know the motion of each molecule in a gas, but we can know the distribution of their velocities and positions.   In the mid to late 1800s, James Clerk Maxwell and Ludwig Boltzmann modeled the *distribution of speed of molecules in a gas*. As you probably know, and can intuitive realize, the speed of the molecules depends on the temperature of the gas, which is a macroscopic property, the velocity of the molecules is different for different gas temperatures. **This distribution of velocities is called the Maxwell-Boltzmann distribution.**\n"
      ]
    },
    {
      "cell_type": "markdown",
      "metadata": {
        "id": "7LpR51uQSvN9"
      },
      "source": [
        "It turns out that the Maxwel-Boltzmann distribution is a special case of the [*Chi distribution*](https://en.wikipedia.org/wiki/Chi_distribution). The parameter that controls the shape of a Chi distribution is called \"degrees of freedom\" and the Maxwel-Boltzmann distribution is a Chi distribution _with 3 degrees of freedom_, and with a scale parameter _a_ corresponding to the temperature in some way.\n"
      ]
    },
    {
      "cell_type": "markdown",
      "metadata": {
        "id": "Pc25lN9SUxQL"
      },
      "source": [
        "Below I have created 3 distributions. Based on the description above\n",
        "\n",
        "\n",
        "# 1) label the axes in the plot"
      ]
    },
    {
      "cell_type": "code",
      "metadata": {
        "ExecuteTime": {
          "end_time": "2019-09-07T17:36:56.493299Z",
          "start_time": "2019-09-07T17:36:56.021862Z"
        },
        "colab": {
          "base_uri": "https://localhost:8080/",
          "height": 467
        },
        "id": "LZm2afzhUwuG",
        "outputId": "a5f75b81-2374-423a-9a4c-55282f7591d3"
      },
      "source": [
        "np.random.randn(123)\n",
        "fig, ax = pl.subplots()\n",
        "for a in [0.2, 0.6, 1.0]:\n",
        "    ax.hist(sp.stats.chi.rvs(df=3, scale=a, size=1000), # could as well be sp.stats.maxwell.rvs(scale=a, size=1000)\n",
        "          bins=np.arange(0,5,0.1)-0.05, alpha=0.7,\n",
        "       label=\"a = %.1f\"%a);\n",
        "\n",
        "pl.legend();\n",
        "\n",
        "# your code to add labels here\n",
        "\n",
        "ax.set(xlabel='Speed (a.u.)', ylabel='Counts')"
      ],
      "execution_count": 4,
      "outputs": [
        {
          "output_type": "execute_result",
          "data": {
            "text/plain": [
              "[Text(0.5, 0, 'Speed (a.u.)'), Text(0, 0.5, 'Counts')]"
            ]
          },
          "metadata": {},
          "execution_count": 4
        },
        {
          "output_type": "display_data",
          "data": {
            "text/plain": [
              "<Figure size 640x480 with 1 Axes>"
            ],
            "image/png": "[encoded data removed]"
          },
          "metadata": {}
        }
      ]
    },
    {
      "cell_type": "markdown",
      "metadata": {
        "id": "MGdILsLAaopl"
      },
      "source": [
        "# 2) knowing that the *scale* parameter $a$  is a function of the temperature  *T*, and that the dependency is to a power 1/2, which is correct:\n",
        "   **$a \\propto \\sqrt{T}$**  or **$a \\propto \\sqrt{1/T}$**?\n",
        "\n",
        "   (in other words, is the dependency on the root of the temperature or on the inverse root of the temperature ?)\n"
      ]
    },
    {
      "cell_type": "markdown",
      "metadata": {
        "id": "vMGhorbvcrFM"
      },
      "source": [
        "Looking at the figure, as the parameter *$a$* increases, the average speed of the gas molecules also increases. Since the speed of the gas molecules is proportional to the temperature, then $a \\propto \\sqrt{T}$."
      ]
    },
    {
      "cell_type": "markdown",
      "metadata": {
        "id": "hGeeXYttXLO1"
      },
      "source": [
        "\n",
        "# 3) What is the mean of all three distributions. How does it compare to the most probable molecular speed?\n",
        "From the wikipedia page of the Chi distribution find the formula of the mean of the Chi distribution. The distribution we are using has a scale parameter *a* in addition to the number of degrees of freedom. The mean scales linearly with this parameter:\n",
        "\n",
        "$\\mu_{\\mathrm{MB}, k, a} = a \\cdot \\mu_{\\mathrm{chi}, k}$\n",
        "\n",
        "Using the scipy function ```sp.special.gamma()``` to  calculate the gamma $\\Gamma$ function, and the definition of the mean from the [wikipwdia page of the Chi distribution](https://en.wikipedia.org/wiki/Chi_distribution)\n",
        "**calculate the mean of all three distributions. Compare it with the mean of the empirical distributions I generated in step 1. How does this mean compare to the most probable molecular speed.**\n",
        "(and does it look right based on the plots above?)"
      ]
    },
    {
      "cell_type": "code",
      "metadata": {
        "ExecuteTime": {
          "end_time": "2019-09-07T17:36:59.245480Z",
          "start_time": "2019-09-07T17:36:59.243338Z"
        },
        "id": "-8htAA4mRAVa"
      },
      "source": [
        "# your code here\n",
        "\n",
        "def mean_chi(df):\n",
        "\n",
        "  mean = np.sqrt(2) * (sp.special.gamma((df + 1) / 2)) / (sp.special.gamma(df / 2))\n",
        "\n",
        "  return mean\n",
        "\n",
        "def mean_mb(a):\n",
        "\n",
        "  mean = 2 * a * np.sqrt(2 / np.pi)\n",
        "\n",
        "  return mean"
      ],
      "execution_count": 11,
      "outputs": []
    },
    {
      "cell_type": "code",
      "source": [
        "np.random.randn(123)\n",
        "\n",
        "df = 3\n",
        "for a in [0.2, 0.6, 1.0]:\n",
        "\n",
        "  print(f'Maxwell-Boltzmann Distribution Mean (a = {a}) = {a * mean_chi(df)} (from Chi distribution)')\n",
        "  print(f'Maxwell-Boltzmann Distribution Mean (a = {a}) = {mean_mb(a)} (from MB Wiki)')\n",
        "  print(f'Empirical Mean (a = {a}) = {stats.tmean(sp.stats.chi.rvs(df=3, scale=a, size=1000))}', '\\n')"
      ],
      "metadata": {
        "colab": {
          "base_uri": "https://localhost:8080/"
        },
        "id": "DQO60rVTI5B5",
        "outputId": "ee5eadc4-3850-4576-8cbf-11d7ed34cb13"
      },
      "execution_count": 25,
      "outputs": [
        {
          "output_type": "stream",
          "name": "stdout",
          "text": [
            "Maxwell-Boltzmann Distribution Mean (a = 0.2) = 0.31915382432114625 (from Chi distribution)\n",
            "Maxwell-Boltzmann Distribution Mean (a = 0.2) = 0.3191538243211462 (from MB Wiki)\n",
            "Empirical Mean = 0.3153067443767949 \n",
            "\n",
            "Maxwell-Boltzmann Distribution Mean (a = 0.6) = 0.9574614729634385 (from Chi distribution)\n",
            "Maxwell-Boltzmann Distribution Mean (a = 0.6) = 0.9574614729634384 (from MB Wiki)\n",
            "Empirical Mean = 0.9554167126565264 \n",
            "\n",
            "Maxwell-Boltzmann Distribution Mean (a = 1.0) = 1.595769121605731 (from Chi distribution)\n",
            "Maxwell-Boltzmann Distribution Mean (a = 1.0) = 1.5957691216057308 (from MB Wiki)\n",
            "Empirical Mean = 1.5884591427310648 \n",
            "\n"
          ]
        }
      ]
    },
    {
      "cell_type": "markdown",
      "source": [
        "The empirical means start deviating from the Chi distribution means as the parameter $a$ increases, or as the distribution becomes more spread out."
      ],
      "metadata": {
        "id": "p5qLQ6-IMLhu"
      }
    },
    {
      "cell_type": "code",
      "source": [
        "def mode_chi(df):\n",
        "\n",
        "  mode = np.sqrt(df - 1)\n",
        "\n",
        "  return mode\n",
        "\n",
        "def mode_mb(a):\n",
        "\n",
        "  mode = np.sqrt(2) * a\n",
        "\n",
        "  return mode"
      ],
      "metadata": {
        "id": "GqXNLE8qNl9o"
      },
      "execution_count": 17,
      "outputs": []
    },
    {
      "cell_type": "code",
      "source": [
        "np.random.randn(123)\n",
        "\n",
        "df = 3\n",
        "for a in [0.2, 0.6, 1.0]:\n",
        "\n",
        "  print(f'Maxwell-Boltzmann Distribution Mode (a = {a}) = {a * mode_chi(df)} (from Chi distribution)')\n",
        "  print(f'Maxwell-Boltzmann Distribution Mode (a = {a}) = {mode_mb(a)} (from MB Wiki)', '\\n')"
      ],
      "metadata": {
        "colab": {
          "base_uri": "https://localhost:8080/"
        },
        "id": "zUASZ4RJOLCn",
        "outputId": "b8f47ef9-b564-4bbe-c96b-edf96a414b9b"
      },
      "execution_count": 26,
      "outputs": [
        {
          "output_type": "stream",
          "name": "stdout",
          "text": [
            "Maxwell-Boltzmann Distribution Mode (a = 0.2) = 0.28284271247461906 (from Chi distribution)\n",
            "Maxwell-Boltzmann Distribution Mode (a = 0.2) = 0.28284271247461906 (from MB Wiki) \n",
            "\n",
            "Maxwell-Boltzmann Distribution Mode (a = 0.6) = 0.848528137423857 (from Chi distribution)\n",
            "Maxwell-Boltzmann Distribution Mode (a = 0.6) = 0.848528137423857 (from MB Wiki) \n",
            "\n",
            "Maxwell-Boltzmann Distribution Mode (a = 1.0) = 1.4142135623730951 (from Chi distribution)\n",
            "Maxwell-Boltzmann Distribution Mode (a = 1.0) = 1.4142135623730951 (from MB Wiki) \n",
            "\n"
          ]
        }
      ]
    },
    {
      "cell_type": "markdown",
      "source": [
        "In each of the cases, the most probable values is smaller than the mean. It does seem that the most probable values are lining up with the values that have most counts in the plot above."
      ],
      "metadata": {
        "id": "chk0WSFPPnGB"
      }
    },
    {
      "cell_type": "markdown",
      "metadata": {
        "id": "r7oes80EQER-"
      },
      "source": [
        "This really only holds for perfect gasses, which means under 4 assumptions:\n",
        "- the diameter of the molecules is much smaller than the distance between them\n",
        "- the collisions between molecules conserve energy\n",
        "- the molecules do not interact between collisions and are not subject to any other forces (move at constant speed in a straight line)\n",
        "- the initial position and velocity are random."
      ]
    },
    {
      "cell_type": "markdown",
      "metadata": {
        "id": "3PJ9hjLzQjyA"
      },
      "source": [
        "# Extra Credit:\n",
        "\n",
        "can you create a python (2D) simulation where the molecules behave as describe and calculate their speed evolution from an initial speed that is gaussian distributed? (rather hard!!)\n"
      ]
    },
    {
      "cell_type": "code",
      "metadata": {
        "ExecuteTime": {
          "end_time": "2019-09-07T17:37:01.623460Z",
          "start_time": "2019-09-07T17:37:01.621218Z"
        },
        "id": "6LJU9GPVRO7B"
      },
      "source": [
        "# your code here"
      ],
      "execution_count": null,
      "outputs": []
    }
  ]
}